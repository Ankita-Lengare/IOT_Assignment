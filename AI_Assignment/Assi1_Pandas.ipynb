{
 "cells": [
  {
   "cell_type": "markdown",
   "id": "2ec3749e-4cab-4ec3-8caa-272e58225053",
   "metadata": {},
   "source": [
    "1. Write a Pandas program to create and display a one-dimensional array-like object containing an array of data."
   ]
  },
  {
   "cell_type": "code",
   "execution_count": 5,
   "id": "2846b436-c4b0-49f3-a087-13fe51015ac8",
   "metadata": {},
   "outputs": [],
   "source": [
    "import numpy as np\n",
    "import pandas as pd\n"
   ]
  },
  {
   "cell_type": "code",
   "execution_count": 6,
   "id": "693932fb-d9ca-44cc-bdad-08a48472d1c5",
   "metadata": {},
   "outputs": [
    {
     "name": "stdout",
     "output_type": "stream",
     "text": [
      "   0\n",
      "0  1\n",
      "1  2\n",
      "2  3\n",
      "3  4\n",
      "4  5\n"
     ]
    }
   ],
   "source": [
    "data = [1,2,3,4,5]\n",
    "df = pd.DataFrame(data)\n",
    "print (df)"
   ]
  },
  {
   "cell_type": "markdown",
   "id": "0d326fb4-1773-4f8d-a94d-8b1b6dc269f5",
   "metadata": {},
   "source": [
    "2. Write a Pandas program to convert a Panda module Series to Python list and it’s type.\n"
   ]
  },
  {
   "cell_type": "code",
   "execution_count": 7,
   "id": "5f92b221-e95e-46d2-bf29-e58a603869c8",
   "metadata": {},
   "outputs": [],
   "source": [
    "def function1():\n",
    "    series = pd.Series([2, 4, 6, 8, 10])\n",
    "    print(\"Pandas Series and type\")\n",
    "    print(series)\n",
    "    print(type(series))\n",
    "    print(\"Convert Pandas Series to Python list\")\n",
    "    print(series.tolist())\n",
    "    print(type(series.tolist()))"
   ]
  },
  {
   "cell_type": "code",
   "execution_count": 8,
   "id": "7631eb4b-51f4-4fe9-9c62-bfb5b36dfd05",
   "metadata": {},
   "outputs": [
    {
     "name": "stdout",
     "output_type": "stream",
     "text": [
      "Pandas Series and type\n",
      "0     2\n",
      "1     4\n",
      "2     6\n",
      "3     8\n",
      "4    10\n",
      "dtype: int64\n",
      "<class 'pandas.core.series.Series'>\n",
      "Convert Pandas Series to Python list\n",
      "[2, 4, 6, 8, 10]\n",
      "<class 'list'>\n"
     ]
    }
   ],
   "source": [
    "function1()"
   ]
  },
  {
   "cell_type": "markdown",
   "id": "8774aa86-0423-4a44-a4f5-6a12b3734963",
   "metadata": {},
   "source": [
    "3. Write a Pandas program to add, subtract, multiple and divide two Pandas Series.\n",
    "   Sample Series: [2, 4, 6, 8, 10], [1, 3, 5, 7, 9]\n"
   ]
  },
  {
   "cell_type": "code",
   "execution_count": 14,
   "id": "76ea1804-6cbc-4f49-9a61-1692b2de9dcd",
   "metadata": {},
   "outputs": [
    {
     "name": "stdout",
     "output_type": "stream",
     "text": [
      "Addition of Two series\n",
      "0     3\n",
      "1     7\n",
      "2    11\n",
      "3    15\n",
      "4    19\n",
      "dtype: int64\n",
      "Subtraction of Two series\n",
      "0    1\n",
      "1    1\n",
      "2    1\n",
      "3    1\n",
      "4    1\n",
      "dtype: int64\n",
      "Multiplication of Two series\n",
      "0     2\n",
      "1    12\n",
      "2    30\n",
      "3    56\n",
      "4    90\n",
      "dtype: int64\n",
      "Division of Two series\n",
      "0    2.000000\n",
      "1    1.333333\n",
      "2    1.200000\n",
      "3    1.142857\n",
      "4    1.111111\n",
      "dtype: float64\n"
     ]
    }
   ],
   "source": [
    "n1 = pd.Series([2,4,6,8,10])\n",
    "n2 = pd.Series([1,3,5,7,9])\n",
    "#print(f\"N1 = {n1}\")\n",
    "#print(f\"N2 = {n2}\")\n",
    "print('Addition of Two series')\n",
    "print(n1+n2)\n",
    "print('Subtraction of Two series')\n",
    "print(n1-n2)\n",
    "print('Multiplication of Two series')\n",
    "print(n1*n2)\n",
    "print('Division of Two series')\n",
    "a = pd.Series(n1/n2)\n",
    "print(a)"
   ]
  },
  {
   "cell_type": "markdown",
   "id": "f1154792-9e34-42a3-b574-d26c7b9732b2",
   "metadata": {},
   "source": [
    "4. Write a Pandas program to convert a dictionary to a Pandas series.\n"
   ]
  },
  {
   "cell_type": "code",
   "execution_count": 26,
   "id": "0c661a7a-1dfc-40d7-959a-1f6b42d611ee",
   "metadata": {},
   "outputs": [],
   "source": [
    "def function2():\n",
    "    s1 = ({\"Name\":\"Ankita\",\"org\":\"sunbeam\",\"course\":\"python\"})\n",
    "    print('Orignal Dictionary:')\n",
    "    print(s1)\n",
    "    Pandas_series = pd.Series(s1)\n",
    "    print('Convertes Panda Series:')\n",
    "    print(Pandas_series)\n",
    "  "
   ]
  },
  {
   "cell_type": "code",
   "execution_count": 27,
   "id": "d9fc118c-41d4-4986-975b-77ccdd2bea92",
   "metadata": {},
   "outputs": [
    {
     "name": "stdout",
     "output_type": "stream",
     "text": [
      "Orignal Dictionary:\n",
      "{'Name': 'Ankita', 'org': 'sunbeam', 'course': 'python'}\n",
      "Convertes Panda Series:\n",
      "Name       Ankita\n",
      "org       sunbeam\n",
      "course     python\n",
      "dtype: object\n"
     ]
    }
   ],
   "source": [
    "function2()"
   ]
  },
  {
   "cell_type": "markdown",
   "id": "c59bb3a7-cdbc-4f9b-8187-db813cf3fac8",
   "metadata": {},
   "source": [
    "5. Write a Pandas program to convert a NumPy array to a Pandas series."
   ]
  },
  {
   "cell_type": "code",
   "execution_count": 28,
   "id": "127fd43a-23c9-4e9f-a7b6-b9c8b1b6591c",
   "metadata": {},
   "outputs": [
    {
     "name": "stdout",
     "output_type": "stream",
     "text": [
      "Numpy Array:\n",
      "[ 2  4  6  8 10]\n",
      "Numpy array convert to Pandas Series:\n",
      "0     2\n",
      "1     4\n",
      "2     6\n",
      "3     8\n",
      "4    10\n",
      "dtype: int64\n"
     ]
    }
   ],
   "source": [
    "n1 = np.array([2,4,6,8,10])\n",
    "print('Numpy Array:')\n",
    "print(n1)\n",
    "Pandas_series=pd.Series(n1)\n",
    "print('Numpy array convert to Pandas Series:')\n",
    "print(Pandas_series)\n"
   ]
  },
  {
   "cell_type": "markdown",
   "id": "31e07aac-66df-426f-b8a7-1cc8068c6262",
   "metadata": {},
   "source": [
    "6. Write a Pandas program to change the data type of given a column or a Series."
   ]
  },
  {
   "cell_type": "code",
   "execution_count": 30,
   "id": "dfb910dd-fd84-4b23-b608-a6b0522411ec",
   "metadata": {},
   "outputs": [
    {
     "name": "stdout",
     "output_type": "stream",
     "text": [
      "Original Data Series:\n",
      "0       100\n",
      "1       200\n",
      "2        33\n",
      "3    300.12\n",
      "4       400\n",
      "dtype: object\n",
      "Change the said data type to numeric:\n",
      "0    100.00\n",
      "1    200.00\n",
      "2     33.00\n",
      "3    300.12\n",
      "4    400.00\n",
      "dtype: float64\n"
     ]
    }
   ],
   "source": [
    "s1 = pd.Series(['100', '200', '33', '300.12', '400'])\n",
    "print(\"Original Data Series:\")\n",
    "print(s1)\n",
    "print(\"Change the said data type to numeric:\")\n",
    "s2 = pd.to_numeric(s1, errors='coerce')\n",
    "print(s2)"
   ]
  },
  {
   "cell_type": "markdown",
   "id": "fc9b372b-8553-4efc-aca6-da52210f35ad",
   "metadata": {},
   "source": [
    "7. Write a Pandas program to convert a given Series to an array."
   ]
  },
  {
   "cell_type": "code",
   "execution_count": 33,
   "id": "92ddd7aa-2944-45de-8b2d-c16bf9b9acfc",
   "metadata": {},
   "outputs": [
    {
     "name": "stdout",
     "output_type": "stream",
     "text": [
      "0     5\n",
      "1    10\n",
      "2    15\n",
      "3    16\n",
      "4    17\n",
      "dtype: object\n",
      "['5' '10' '15' '16' '17']\n"
     ]
    }
   ],
   "source": [
    "n1 = pd.Series(['5','10','15','16','17'])\n",
    "print(n1)\n",
    "arr = np.array(n1)\n",
    "print(arr)\n"
   ]
  },
  {
   "cell_type": "markdown",
   "id": "06f54868-c15f-4d89-a350-f14fc9b9cce3",
   "metadata": {},
   "source": [
    "8. Write a Pandas program to create a dataframe from a dictionary and display it.\n"
   ]
  },
  {
   "cell_type": "code",
   "execution_count": 37,
   "id": "70957ca5-5854-4570-9cce-356c6e312ff7",
   "metadata": {},
   "outputs": [],
   "source": [
    "def function3():\n",
    "    p1 = ({\"name\":\"Ankita\",\"age\":20,\"id\":111})\n",
    "    p2 = ({\"name\":\"Rutuja\",\"age\":22,\"id\":256})\n",
    "    p3 = ({\"name\":\"Akshda\",\"age\":22,\"id\":888})\n",
    "    \n",
    "    s1 = pd.Series(p1)\n",
    "    s2 = pd.Series(p2)\n",
    "    s3 = pd.Series(p3)\n",
    "    \n",
    "    df = pd.DataFrame([s1,s2,s3])\n",
    "    \n",
    "    print(df)\n",
    "    "
   ]
  },
  {
   "cell_type": "code",
   "execution_count": 39,
   "id": "3a049e6c-7f15-4514-9d44-8e1b5e1f2279",
   "metadata": {},
   "outputs": [
    {
     "name": "stdout",
     "output_type": "stream",
     "text": [
      "     name  age   id\n",
      "0  Ankita   20  111\n",
      "1  Rutuja   22  256\n",
      "2  Akshda   22  888\n"
     ]
    }
   ],
   "source": [
    "function3()"
   ]
  },
  {
   "cell_type": "markdown",
   "id": "e0b92bd4-c568-49d6-bd43-24df0d232bab",
   "metadata": {},
   "source": [
    "9. i) Create a list of empids and names (10 employees)."
   ]
  },
  {
   "cell_type": "code",
   "execution_count": 45,
   "id": "898bcbec-302a-43fb-ac5f-59c441e49e50",
   "metadata": {},
   "outputs": [],
   "source": [
    "def function3():\n",
    "    p1 = ({\"name\":\"Ankita\",\"id\":111})\n",
    "    p2 = ({\"name\":\"Rutuja\",\"id\":256})\n",
    "    p3 = ({\"name\":\"Akshda\",\"id\":888})\n",
    "    p4 = ({\"name\":\"xyz\",\"id\":889})\n",
    "    p5 = ({\"name\":\"ABC\",\"id\":586})\n",
    "    p6 = ({\"name\":\"NVJ\",\"id\":456})\n",
    "    p7 = ({\"name\":\"PQR\",\"id\":158})\n",
    "    p8 = ({\"name\":\"CDSB\",\"id\":148})\n",
    "    p9 = ({\"name\":\"BHVSDH\",\"id\":888})\n",
    "    p10 = ({\"name\":\"DVBD\",\"id\":888})\n",
    "    \n",
    "    s1 = pd.Series(p1)\n",
    "    s2 = pd.Series(p2)\n",
    "    s3 = pd.Series(p3)\n",
    "    s4 = pd.Series(p4)\n",
    "    s5 = pd.Series(p5)\n",
    "    s6 = pd.Series(p6)\n",
    "    s7 = pd.Series(p7)\n",
    "    s8 = pd.Series(p8)\n",
    "    s9 = pd.Series(p9)\n",
    "    s10 = pd.Series(p10)\n",
    "    \n",
    "    df = pd.DataFrame([s1,s2,s3,s4,s5,s6,s7,s8,s9,s10])\n",
    "    \n",
    "    print(df)\n",
    "    "
   ]
  },
  {
   "cell_type": "code",
   "execution_count": 46,
   "id": "ee9b83ee-1b08-4e68-9928-118b5e9400cc",
   "metadata": {},
   "outputs": [
    {
     "name": "stdout",
     "output_type": "stream",
     "text": [
      "     name   id\n",
      "0  Ankita  111\n",
      "1  Rutuja  256\n",
      "2  Akshda  888\n",
      "3     xyz  889\n",
      "4     ABC  586\n",
      "5     NVJ  456\n",
      "6     PQR  158\n",
      "7    CDSB  148\n",
      "8  BHVSDH  888\n",
      "9    DVBD  888\n"
     ]
    }
   ],
   "source": [
    "function3()"
   ]
  },
  {
   "cell_type": "markdown",
   "id": "19ed7a34-f35c-4afa-b78e-861803d550b1",
   "metadata": {},
   "source": [
    "   ii) Convert list into Series.\n",
    "   iii) Print type of Series.\n",
    "   iv) Convert Series into DataFrame."
   ]
  },
  {
   "cell_type": "code",
   "execution_count": 53,
   "id": "48e0dd72-08d7-4501-9b20-24f49a9f77b6",
   "metadata": {},
   "outputs": [],
   "source": [
    "def function():\n",
    "    l1 = [10,20,30,40,50]\n",
    "    print('orignal list')\n",
    "    print(l1)\n",
    "    series=pd.Series(l1)\n",
    "    print('converted list into series')\n",
    "    print(series)\n",
    "    print(f\"Series = {series} Type ={type(series)}\")\n",
    "\n",
    "    df=pd.DataFrame([series])\n",
    "    print(df)\n",
    "    "
   ]
  },
  {
   "cell_type": "code",
   "execution_count": 54,
   "id": "7c7725ca-446a-4c23-956a-b026b4d2a5cd",
   "metadata": {},
   "outputs": [
    {
     "name": "stdout",
     "output_type": "stream",
     "text": [
      "orignal list\n",
      "[10, 20, 30, 40, 50]\n",
      "converted list into series\n",
      "0    10\n",
      "1    20\n",
      "2    30\n",
      "3    40\n",
      "4    50\n",
      "dtype: int64\n",
      "Series = 0    10\n",
      "1    20\n",
      "2    30\n",
      "3    40\n",
      "4    50\n",
      "dtype: int64 Type =<class 'pandas.core.series.Series'>\n",
      "    0   1   2   3   4\n",
      "0  10  20  30  40  50\n"
     ]
    }
   ],
   "source": [
    "function()"
   ]
  },
  {
   "cell_type": "code",
   "execution_count": null,
   "id": "16ac86e2-df7e-4afe-bb1f-7ef1ed872910",
   "metadata": {},
   "outputs": [],
   "source": []
  }
 ],
 "metadata": {
  "kernelspec": {
   "display_name": "Python 3 (ipykernel)",
   "language": "python",
   "name": "python3"
  },
  "language_info": {
   "codemirror_mode": {
    "name": "ipython",
    "version": 3
   },
   "file_extension": ".py",
   "mimetype": "text/x-python",
   "name": "python",
   "nbconvert_exporter": "python",
   "pygments_lexer": "ipython3",
   "version": "3.10.12"
  }
 },
 "nbformat": 4,
 "nbformat_minor": 5
}
