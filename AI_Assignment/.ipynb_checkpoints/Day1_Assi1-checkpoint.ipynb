{
 "cells": [
  {
   "cell_type": "code",
   "execution_count": 59,
   "id": "89a7dca7-96bb-40c6-b821-dc7ed234ac3c",
   "metadata": {},
   "outputs": [
    {
     "name": "stdout",
     "output_type": "stream",
     "text": [
      "Ankita\n"
     ]
    }
   ],
   "source": [
    "print(\"Ankita\")"
   ]
  },
  {
   "cell_type": "code",
   "execution_count": 113,
   "id": "9d6114ee-388d-43a8-90d8-7001a5ff643b",
   "metadata": {},
   "outputs": [],
   "source": [
    "import numpy as np"
   ]
  },
  {
   "cell_type": "markdown",
   "id": "5d55be3d-903e-465e-a64c-3efe25d81db0",
   "metadata": {},
   "source": [
    "1. Write a NumPy program to create an array with the values 1, 7, 13, 105    and determine the size of the memory occupied by the array.\n"
   ]
  },
  {
   "cell_type": "code",
   "execution_count": 61,
   "id": "ecc1fbac-e7ac-4fba-8529-aaaf621ce5ed",
   "metadata": {},
   "outputs": [],
   "source": [
    "def function1():\n",
    "    arr = np.array([1,7,13,105])\n",
    "    print(arr)\n",
    "    print(f\"NBYTES = {arr.nbytes}\")"
   ]
  },
  {
   "cell_type": "code",
   "execution_count": 62,
   "id": "a4f51c88-f5bb-4701-b8e0-fd8ca3ad05c3",
   "metadata": {},
   "outputs": [
    {
     "name": "stdout",
     "output_type": "stream",
     "text": [
      "[  1   7  13 105]\n",
      "NBYTES = 32\n"
     ]
    }
   ],
   "source": [
    "function1()"
   ]
  },
  {
   "cell_type": "markdown",
   "id": "168290ff-a18f-4273-90c3-d0fba02decd1",
   "metadata": {},
   "source": [
    "2. Write a NumPy program to create an element-wise comparison (greater,    greater_equal, less and less_equal) of two given arrays."
   ]
  },
  {
   "cell_type": "code",
   "execution_count": 90,
   "id": "e0314705-1a85-44be-a9ef-f65395c588fc",
   "metadata": {},
   "outputs": [
    {
     "name": "stdout",
     "output_type": "stream",
     "text": [
      "9 is greater than 3\n",
      "2 is less than 5\n",
      "1 is less than 4\n"
     ]
    }
   ],
   "source": [
    "#def function2():\n",
    "arr1 = np.array([1,2,9]) # you wrote {} instead of [] for list  \n",
    "arr2 = np.array([4,5,3]) # same mistake for this line {4,5,6}\n",
    "i= arr1.size -1\n",
    "while i>=0:\n",
    "    if arr1[i]>arr2[i]:\n",
    "        print(f\"{arr1[i]} is greater than {arr2[i]}\")\n",
    "    elif arr1[i]<arr2[i]:\n",
    "        print(f\"{arr1[i]} is less than {arr2[i]}\")\n",
    "    elif arr1[i]>=arr2[i]:\n",
    "        print(f\"{arr1[i]} is greater than equal to {arr2[i]}\")\n",
    "    elif arr1[i]<=arr2[i]:\n",
    "        print(f\"{arr1[i]} is less than equal to {arr2[i]}\")\n",
    "    i=i-1"
   ]
  },
  {
   "cell_type": "markdown",
   "id": "a1bd705b-3277-4b84-96d3-9fe1afcb9c1f",
   "metadata": {},
   "source": [
    "3.  Write a NumPy program to create an array of 10 zeros, 10 ones, 10    fives, 10 tens, 10 twentys and 10 fiftys."
   ]
  },
  {
   "cell_type": "code",
   "execution_count": 93,
   "id": "a9defe31-fa18-4c05-bd7e-5ba2ea02c8b0",
   "metadata": {},
   "outputs": [
    {
     "name": "stdout",
     "output_type": "stream",
     "text": [
      "[0. 0. 0. 0. 0. 0. 0. 0. 0. 0.]\n",
      "[1. 1. 1. 1. 1. 1. 1. 1. 1. 1.]\n",
      "[5. 5. 5. 5. 5. 5. 5. 5. 5. 5.]\n",
      "[10. 10. 10. 10. 10. 10. 10. 10. 10. 10.]\n",
      "[20. 20. 20. 20. 20. 20. 20. 20. 20. 20.]\n",
      "[50. 50. 50. 50. 50. 50. 50. 50. 50. 50.]\n"
     ]
    }
   ],
   "source": [
    "arr1=np.zeros(10)\n",
    "print(arr1)\n",
    "arr1=np.ones(10)\n",
    "print(arr1)\n",
    "print(arr1*5)\n",
    "print(arr1*10)\n",
    "print(arr1*20)\n",
    "print(arr1*50)\n",
    "\n",
    "\n",
    "\n"
   ]
  },
  {
   "cell_type": "markdown",
   "id": "e55b0527-fd62-4b75-b569-bb2043eaf581",
   "metadata": {},
   "source": [
    "4. Write a NumPy program to create an array of integers from 30 to 70.\n"
   ]
  },
  {
   "cell_type": "code",
   "execution_count": 96,
   "id": "945df6c0-7369-4546-a67e-2413820443ce",
   "metadata": {},
   "outputs": [
    {
     "name": "stdout",
     "output_type": "stream",
     "text": [
      "[30 31 32 33 34 35 36 37 38 39 40 41 42 43 44 45 46 47 48 49 50 51 52 53\n",
      " 54 55 56 57 58 59 60 61 62 63 64 65 66 67 68 69]\n"
     ]
    }
   ],
   "source": [
    "arr1 = np.arange(30,70)\n",
    "print(arr1)"
   ]
  },
  {
   "cell_type": "markdown",
   "id": "eb803949-4225-4b99-a221-74960a578ebb",
   "metadata": {},
   "source": [
    "5. Write a NumPy program to create an array of integers from 50 to 95.\n"
   ]
  },
  {
   "cell_type": "code",
   "execution_count": 97,
   "id": "5daeb877-f108-4c55-98b4-93d046b55d50",
   "metadata": {},
   "outputs": [
    {
     "name": "stdout",
     "output_type": "stream",
     "text": [
      "[50 51 52 53 54 55 56 57 58 59 60 61 62 63 64 65 66 67 68 69 70 71 72 73\n",
      " 74 75 76 77 78 79 80 81 82 83 84 85 86 87 88 89 90 91 92 93 94]\n"
     ]
    }
   ],
   "source": [
    "arr1 = np.arange(50,95)\n",
    "print(arr1)"
   ]
  },
  {
   "cell_type": "markdown",
   "id": "10e2769a-fa3d-44be-9e37-8c93a9af5c00",
   "metadata": {},
   "source": [
    "6. Write a NumPy program to create an array of all even integers from 20 to 80."
   ]
  },
  {
   "cell_type": "code",
   "execution_count": 99,
   "id": "851ee72c-dcea-4fd1-b15c-0dd0781c496d",
   "metadata": {},
   "outputs": [
    {
     "name": "stdout",
     "output_type": "stream",
     "text": [
      "[20 22 24 26 28 30 32 34 36 38 40 42 44 46 48 50 52 54 56 58 60 62 64 66\n",
      " 68 70 72 74 76 78]\n"
     ]
    }
   ],
   "source": [
    "arr1 = np.arange(20,80,2)\n",
    "print(arr1)"
   ]
  },
  {
   "cell_type": "markdown",
   "id": "b4982430-623c-4ee4-a8c7-93e7707a9240",
   "metadata": {},
   "source": [
    "7. Write a NumPy program to create an array of all odd integers from 20 to 80.\n"
   ]
  },
  {
   "cell_type": "code",
   "execution_count": 101,
   "id": "92e4fb96-b307-4120-a27b-b25f4cdfd297",
   "metadata": {},
   "outputs": [
    {
     "name": "stdout",
     "output_type": "stream",
     "text": [
      "[21 23 25 27 29 31 33 35 37 39 41 43 45 47 49 51 53 55 57 59 61 63 65 67\n",
      " 69 71 73 75 77 79]\n"
     ]
    }
   ],
   "source": [
    "arr1 = np.arange(21,80,2)\n",
    "print(arr1)"
   ]
  },
  {
   "cell_type": "markdown",
   "id": "260e375c-8f77-42b2-9c9c-848669f1d8aa",
   "metadata": {},
   "source": [
    "8. Write a NumPy program to generate an array of 15 random numbers from 10    to 40.\n"
   ]
  },
  {
   "cell_type": "code",
   "execution_count": 103,
   "id": "a059e304-7585-443e-8c4f-219318757eb8",
   "metadata": {},
   "outputs": [
    {
     "name": "stdout",
     "output_type": "stream",
     "text": [
      "[21 23 32 13 15 31 13 10 35 35 11 39 15 21 29]\n"
     ]
    }
   ],
   "source": [
    "n3 = np.random.randint(10,40,15)\n",
    "print(n3)"
   ]
  },
  {
   "cell_type": "markdown",
   "id": "655febb7-9cf8-4f36-9e2d-6959517c5443",
   "metadata": {},
   "source": [
    "9. Write a NumPy program to generate an array of 10 random numbers from 30    to 50."
   ]
  },
  {
   "cell_type": "code",
   "execution_count": 104,
   "id": "e7b62bdd-f8b0-4586-9deb-eec59af60f0b",
   "metadata": {},
   "outputs": [
    {
     "name": "stdout",
     "output_type": "stream",
     "text": [
      "[43 35 34 42 39 33 40 31 41 36]\n"
     ]
    }
   ],
   "source": [
    "n3 = np.random.randint(30,50,10)\n",
    "print(n3)"
   ]
  },
  {
   "cell_type": "markdown",
   "id": "ea83af53-545b-4128-a908-8ecec1acf2d9",
   "metadata": {},
   "source": [
    "10. Write a NumPy program to generate an array of 20 random numbers from 50    to 90."
   ]
  },
  {
   "cell_type": "code",
   "execution_count": 105,
   "id": "ded2d75a-d2c2-4cf3-a2b0-927bda1dd81e",
   "metadata": {},
   "outputs": [
    {
     "name": "stdout",
     "output_type": "stream",
     "text": [
      "[73 84 50 62 61 62 61 84 72 74 66 87 85 57 62 64 85 77 74 70]\n"
     ]
    }
   ],
   "source": [
    "n3 = np.random.randint(50,90,20)\n",
    "print(n3)"
   ]
  },
  {
   "cell_type": "markdown",
   "id": "24f985b5-d9c4-43bb-b674-92bf6b4408c1",
   "metadata": {},
   "source": [
    "11. Create any two arrays & perform various mathematical operations.\n",
    "    i.e. Addition, Substraction, Multiplication, Divide."
   ]
  },
  {
   "cell_type": "code",
   "execution_count": 132,
   "id": "47d2ec3b-f9e7-4f79-baa1-f736555856ce",
   "metadata": {},
   "outputs": [
    {
     "name": "stdout",
     "output_type": "stream",
     "text": [
      "N1 = [13 15 18  9]\n",
      "N2 = [ 7  2 22 14]\n",
      "[20 17 40 23]\n",
      "[ 6 13 -4 -5]\n",
      "[ 91  30 396 126]\n",
      "[1 7 0 0]\n"
     ]
    }
   ],
   "source": [
    "n1 = np.array([13,15,18,9],dtype=np.int32)\n",
    "n2 = np.array([7,2,22,14],dtype=np.int32)\n",
    "print(f\"N1 = {n1}\")\n",
    "print(f\"N2 = {n2}\")\n",
    "print(n1+n2)\n",
    "print(n1-n2)\n",
    "print(n1*n2)\n",
    "a=np.array(n1/n2,dtype=np.int16)\n",
    "print(a)"
   ]
  },
  {
   "cell_type": "markdown",
   "id": "2f1e8d81-e1bb-4ff9-90f5-374104be2106",
   "metadata": {},
   "source": [
    "12. Write a NumPy program to create a 3x4 matrix filled with values from 10     to 21.\n"
   ]
  },
  {
   "cell_type": "code",
   "execution_count": 118,
   "id": "cc7c6ad9-3696-4357-9cad-4beacfce18d6",
   "metadata": {},
   "outputs": [
    {
     "name": "stdout",
     "output_type": "stream",
     "text": [
      "[[10 11 12 13]\n",
      " [14 15 16 17]\n",
      " [18 19 20 21]]\n"
     ]
    }
   ],
   "source": [
    "n1= np.arange(10,22).reshape((3,4))\n",
    "print(n1)"
   ]
  },
  {
   "cell_type": "markdown",
   "id": "b626ee5d-f769-42ea-8672-79bf05fcb7cd",
   "metadata": {},
   "source": [
    "13. Write a NumPy program to create a 3x3 identity matrix, i.e. the diagonal     elements are 1, the rest are 0."
   ]
  },
  {
   "cell_type": "code",
   "execution_count": 131,
   "id": "9668f541-ea5d-4c5f-872a-593e5e3086ed",
   "metadata": {},
   "outputs": [
    {
     "name": "stdout",
     "output_type": "stream",
     "text": [
      "[[1. 0. 0.]\n",
      " [0. 1. 0.]\n",
      " [0. 0. 1.]]\n"
     ]
    }
   ],
   "source": [
    "n1= np.identity(3)\n",
    "print(n1)"
   ]
  },
  {
   "cell_type": "markdown",
   "id": "b06a8b6a-80a6-4ca1-932f-d66360c7db00",
   "metadata": {},
   "source": [
    "   14. Write a NumPy program to find the number of rows and columns in a given             matrix.                                                          "
   ]
  },
  {
   "cell_type": "code",
   "execution_count": 134,
   "id": "19f12c90-aca5-4589-81e8-9dbc439c9ee3",
   "metadata": {},
   "outputs": [
    {
     "name": "stdout",
     "output_type": "stream",
     "text": [
      "Orignal Matrix\n",
      "[[10 11 12 13]\n",
      " [14 15 16 17]\n",
      " [18 19 20 21]]\n",
      "Number of Rows and Columns\n",
      "(3, 4)\n"
     ]
    }
   ],
   "source": [
    "n1= np.arange(10,22).reshape((3,4))\n",
    "print(\"Orignal Matrix\")\n",
    "print(n1)\n",
    "print(\"Number of Rows and Columns\")\n",
    "print(n1.shape)"
   ]
  },
  {
   "cell_type": "markdown",
   "id": "fc830baf-ac7e-41d5-a3b6-f32f5e207c27",
   "metadata": {},
   "source": [
    "15.Write a NumPy program to create a 5x5 zero matrix with elements on the     main diagonal equal to 1, 2, 3, 4, 5."
   ]
  },
  {
   "cell_type": "code",
   "execution_count": 136,
   "id": "2cc5fd71-2c23-47f7-b9ba-f580247db551",
   "metadata": {},
   "outputs": [
    {
     "name": "stdout",
     "output_type": "stream",
     "text": [
      "[[1 0 0 0 0]\n",
      " [0 2 0 0 0]\n",
      " [0 0 3 0 0]\n",
      " [0 0 0 4 0]\n",
      " [0 0 0 0 5]]\n"
     ]
    }
   ],
   "source": [
    "n1 = np.diag([1,2,3,4,5])\n",
    "print(n1)"
   ]
  },
  {
   "cell_type": "markdown",
   "id": "0ab66eec-c478-4057-a090-4d3a2e143176",
   "metadata": {},
   "source": [
    "16. Write a NumPy program to create a 3x3x3 array filled with arbitrary     values."
   ]
  },
  {
   "cell_type": "code",
   "execution_count": 138,
   "id": "c151025b-f14e-4ff4-8f38-804caad527d8",
   "metadata": {},
   "outputs": [
    {
     "name": "stdout",
     "output_type": "stream",
     "text": [
      "[[[0.96581552 0.78066157 0.95986532]\n",
      "  [0.96639007 0.7275052  0.37575498]\n",
      "  [0.02898962 0.28895933 0.72445776]]\n",
      "\n",
      " [[0.10454905 0.8399822  0.90643431]\n",
      "  [0.3618372  0.0658806  0.06495009]\n",
      "  [0.24489818 0.21572079 0.46803055]]\n",
      "\n",
      " [[0.96708767 0.44839265 0.08875789]\n",
      "  [0.64763811 0.00234985 0.37301841]\n",
      "  [0.98047852 0.35163151 0.78721115]]]\n"
     ]
    }
   ],
   "source": [
    "n1=np.random.random([3,3,3])\n",
    "print(n1)"
   ]
  },
  {
   "cell_type": "markdown",
   "id": "b46548ed-bce5-4047-87b3-1e4d34f55cf6",
   "metadata": {},
   "source": [
    "17. Write a NumPy program to create a 2x3x4 array filled with arbitrary     values."
   ]
  },
  {
   "cell_type": "code",
   "execution_count": 140,
   "id": "bd49fa39-76bf-4e90-a929-b0d6ae7eec37",
   "metadata": {},
   "outputs": [
    {
     "name": "stdout",
     "output_type": "stream",
     "text": [
      "[[[0.20005952 0.0876218  0.20705121 0.00471115]\n",
      "  [0.92149661 0.31698857 0.99845238 0.98221296]\n",
      "  [0.76165827 0.55221532 0.3200005  0.249558  ]]\n",
      "\n",
      " [[0.79643248 0.03877037 0.45106927 0.72743826]\n",
      "  [0.54625034 0.94606747 0.90714574 0.13121032]\n",
      "  [0.53367678 0.18467943 0.34156999 0.219134  ]]]\n"
     ]
    }
   ],
   "source": [
    "n1=np.random.rand(2,3,4)#random or rand both same\n",
    "print(n1)"
   ]
  },
  {
   "cell_type": "markdown",
   "id": "a1139bc8-ed05-4d34-ab40-d2a8976a7d38",
   "metadata": {},
   "source": [
    " 18.Write a NumPy program to convert a list of numeric values into a one-    dimensional NumPy array.\n"
   ]
  },
  {
   "cell_type": "code",
   "execution_count": 142,
   "id": "0c16eca1-a9fe-4e06-b5bf-e29618188811",
   "metadata": {},
   "outputs": [
    {
     "name": "stdout",
     "output_type": "stream",
     "text": [
      "One-dimensional NumPy array:\n",
      "[1 2 3 4 5 6]\n"
     ]
    }
   ],
   "source": [
    "m=[1,2,3,4,5,6]\n",
    "array=np.array(m)\n",
    "print(\"One-dimensional NumPy array:\")\n",
    "print(array)"
   ]
  },
  {
   "cell_type": "markdown",
   "id": "05efbd36-1764-4dd5-9fdb-bb6d65c1dc4e",
   "metadata": {},
   "source": [
    "19. Write a NumPy program to create a 3x3 matrix with values ranging from 2     to 10."
   ]
  },
  {
   "cell_type": "code",
   "execution_count": 144,
   "id": "43e29613-424d-4aa2-976c-968afa65bca2",
   "metadata": {},
   "outputs": [
    {
     "name": "stdout",
     "output_type": "stream",
     "text": [
      "3x3 Matrix with values ranging from 2 to 10:\n",
      "[[ 2  3  4]\n",
      " [ 5  6  7]\n",
      " [ 8  9 10]]\n"
     ]
    }
   ],
   "source": [
    "n1= np.arange(2,11).reshape((3,3))\n",
    "print(\"3x3 Matrix with values ranging from 2 to 10:\")\n",
    "print(n1)"
   ]
  },
  {
   "cell_type": "markdown",
   "id": "c0e244e3-717a-4a48-afce-f851e021c0ad",
   "metadata": {},
   "source": [
    "20. Write a NumPy program to create an array with values ranging from 12 to 38."
   ]
  },
  {
   "cell_type": "code",
   "execution_count": 145,
   "id": "8ff7aa30-d771-40f2-b9f6-88b3e4afd8e9",
   "metadata": {},
   "outputs": [
    {
     "name": "stdout",
     "output_type": "stream",
     "text": [
      "[12 13 14 15 16 17 18 19 20 21 22 23 24 25 26 27 28 29 30 31 32 33 34 35\n",
      " 36 37 38]\n"
     ]
    }
   ],
   "source": [
    "array = np.arange(12, 39)\n",
    "print(array)"
   ]
  },
  {
   "cell_type": "markdown",
   "id": "2b3e29f5-8a4b-4d18-af27-33800868f57d",
   "metadata": {},
   "source": [
    "21. Write a NumPy program to reverse an array (the first element becomes the last).\n"
   ]
  },
  {
   "cell_type": "code",
   "execution_count": 148,
   "id": "3759e1bb-c2d6-41ea-b51b-8344dfad23e0",
   "metadata": {},
   "outputs": [
    {
     "name": "stdout",
     "output_type": "stream",
     "text": [
      "Original Array: [1 2 3 4 5]\n",
      "Reversed Array: [5 4 3 2 1]\n"
     ]
    }
   ],
   "source": [
    "original_array = np.array([1, 2, 3, 4, 5])\n",
    "reversed_array = original_array[::-1]\n",
    "print(\"Original Array:\", original_array)\n",
    "print(\"Reversed Array:\", reversed_array)"
   ]
  },
  {
   "cell_type": "markdown",
   "id": "e13b8a9f-608a-4765-bab5-0b1ad9e512e8",
   "metadata": {},
   "source": [
    "22. Write a NumPy program to convert an data type into to a floating type."
   ]
  },
  {
   "cell_type": "code",
   "execution_count": 156,
   "id": "2272772f-b057-40d0-8f30-020276860b92",
   "metadata": {},
   "outputs": [
    {
     "name": "stdout",
     "output_type": "stream",
     "text": [
      "[15.  2.  3.  4.  5.]\n"
     ]
    }
   ],
   "source": [
    "arr1 = np.array([15, 2, 3, 4, 5]).astype(float)\n",
    "print(arr1)\n"
   ]
  },
  {
   "cell_type": "markdown",
   "id": "61418872-532a-4c0e-96aa-f9e6b138bb19",
   "metadata": {},
   "source": [
    "23. Write a NumPy program to convert a list array."
   ]
  },
  {
   "cell_type": "code",
   "execution_count": 160,
   "id": "578fef1c-2c16-491a-9c89-1924f4a4eb55",
   "metadata": {},
   "outputs": [
    {
     "name": "stdout",
     "output_type": "stream",
     "text": [
      "convert a list array\n",
      "[1 2 3 4 5]\n"
     ]
    }
   ],
   "source": [
    "array = [1, 2, 3, 4, 5]\n",
    "list_arr = np.array(array)\n",
    "print(\"convert a list array\")\n",
    "print(list_arr)"
   ]
  },
  {
   "cell_type": "markdown",
   "id": "c7ab9f07-f277-49a4-8c71-c658a3a8cadc",
   "metadata": {},
   "source": [
    "24. Write a NumPy program to get the element-wise remainder of an array of division."
   ]
  },
  {
   "cell_type": "code",
   "execution_count": 162,
   "id": "1edac27a-f89e-451f-8895-c257fe6cf733",
   "metadata": {},
   "outputs": [
    {
     "name": "stdout",
     "output_type": "stream",
     "text": [
      "Dividend Array: [10 20 30 40 50]\n",
      "Divisor Array: [3 4 5 6 7]\n",
      "Element-wise Remainder Array: [1 0 0 4 1]\n"
     ]
    }
   ],
   "source": [
    "dividend_arr = np.array([10, 20, 30, 40, 50])\n",
    "divisor_arr = np.array([3, 4, 5, 6, 7])\n",
    "remainder_array = np.remainder(dividend_arr, divisor_arr)\n",
    "print(\"Dividend Array:\", dividend_arr)\n",
    "print(\"Divisor Array:\", divisor_arr)\n",
    "print(\"Element-wise Remainder Array:\", remainder_array)\n"
   ]
  },
  {
   "cell_type": "markdown",
   "id": "550ce843-253b-4628-bfc0-25bd3bd80e81",
   "metadata": {},
   "source": [
    "25. Write a NumPy program to get the element-wise remainder of an array of numbers from 20 to 50 which are divisible by 3."
   ]
  },
  {
   "cell_type": "code",
   "execution_count": 163,
   "id": "f26200bc-279e-4b32-a19c-5591b9a25035",
   "metadata": {},
   "outputs": [
    {
     "name": "stdout",
     "output_type": "stream",
     "text": [
      "Numbers divisible by 3: [21 24 27 30 33 36 39 42 45 48]\n",
      "Element-wise remainder array: [0 0 0 0 0 0 0 0 0 0]\n"
     ]
    }
   ],
   "source": [
    "numbers = np.arange(20, 51)\n",
    "divisible_by_3 = numbers[numbers % 3 == 0]\n",
    "remainder_array = divisible_by_3 % 3\n",
    "print(\"Numbers divisible by 3:\", divisible_by_3)\n",
    "print(\"Element-wise remainder array:\", remainder_array)\n"
   ]
  },
  {
   "cell_type": "code",
   "execution_count": null,
   "id": "1dbb33c9-ade5-4d64-8a0d-2d843f0ce99d",
   "metadata": {},
   "outputs": [],
   "source": []
  }
 ],
 "metadata": {
  "kernelspec": {
   "display_name": "Python 3 (ipykernel)",
   "language": "python",
   "name": "python3"
  },
  "language_info": {
   "codemirror_mode": {
    "name": "ipython",
    "version": 3
   },
   "file_extension": ".py",
   "mimetype": "text/x-python",
   "name": "python",
   "nbconvert_exporter": "python",
   "pygments_lexer": "ipython3",
   "version": "3.10.12"
  }
 },
 "nbformat": 4,
 "nbformat_minor": 5
}
